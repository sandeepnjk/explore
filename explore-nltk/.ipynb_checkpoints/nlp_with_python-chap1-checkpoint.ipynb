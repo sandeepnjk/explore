{
 "cells": [
  {
   "cell_type": "markdown",
   "metadata": {},
   "source": [
    "## nltk  installation\n",
    "* http://www.nltk.org\n",
    "* http://www.nltk.org/install.html\n",
    "* [Anaconda installation](https://www.anaconda.com/products/individual)"
   ]
  },
  {
   "cell_type": "markdown",
   "metadata": {},
   "source": [
    "## Searching Text"
   ]
  },
  {
   "cell_type": "code",
   "execution_count": 12,
   "metadata": {
    "collapsed": true
   },
   "outputs": [],
   "source": [
    "%matplotlib inline  #ensure matplotlib works here"
   ]
  },
  {
   "cell_type": "code",
   "execution_count": 1,
   "metadata": {
    "collapsed": false
   },
   "outputs": [
    {
     "name": "stdout",
     "output_type": "stream",
     "text": [
      "*** Introductory Examples for the NLTK Book ***\n",
      "Loading text1, ..., text9 and sent1, ..., sent9\n",
      "Type the name of the text or sentence to view it.\n",
      "Type: 'texts()' or 'sents()' to list the materials.\n",
      "text1: Moby Dick by Herman Melville 1851\n",
      "text2: Sense and Sensibility by Jane Austen 1811\n",
      "text3: The Book of Genesis\n",
      "text4: Inaugural Address Corpus\n",
      "text5: Chat Corpus\n",
      "text6: Monty Python and the Holy Grail\n",
      "text7: Wall Street Journal\n",
      "text8: Personals Corpus\n",
      "text9: The Man Who Was Thursday by G . K . Chesterton 1908\n"
     ]
    }
   ],
   "source": [
    "import nltk\n",
    "from nltk.book import *"
   ]
  },
  {
   "cell_type": "code",
   "execution_count": 2,
   "metadata": {
    "collapsed": false
   },
   "outputs": [
    {
     "name": "stdout",
     "output_type": "stream",
     "text": [
      "Displaying 11 of 11 matches:\n",
      "ong the former , one was of a most monstrous size . ... This came towards us , \n",
      "ON OF THE PSALMS . \" Touching that monstrous bulk of the whale or ork we have r\n",
      "ll over with a heathenish array of monstrous clubs and spears . Some were thick\n",
      "d as you gazed , and wondered what monstrous cannibal and savage could ever hav\n",
      "that has survived the flood ; most monstrous and most mountainous ! That Himmal\n",
      "they might scout at Moby Dick as a monstrous fable , or still worse and more de\n",
      "th of Radney .'\" CHAPTER 55 Of the Monstrous Pictures of Whales . I shall ere l\n",
      "ing Scenes . In connexion with the monstrous pictures of whales , I am strongly\n",
      "ere to enter upon those still more monstrous stories of them which are to be fo\n",
      "ght have been rummaged out of this monstrous cabinet there is no telling . But \n",
      "of Whale - Bones ; for Whales of a monstrous size are oftentimes cast up dead u\n"
     ]
    }
   ],
   "source": [
    "text1.concordance(\"monstrous\") #Every occurance of a word along with some context, permits us to see words in context."
   ]
  },
  {
   "cell_type": "code",
   "execution_count": 3,
   "metadata": {
    "collapsed": false
   },
   "outputs": [
    {
     "name": "stdout",
     "output_type": "stream",
     "text": [
      "imperial subtly impalpable pitiable curious abundant perilous\n",
      "trustworthy untoward singular lamentable few determined maddens\n",
      "horrible tyrannical lazy mystifying christian exasperate\n"
     ]
    }
   ],
   "source": [
    "text1.similar(\"monstrous\") #words that occur in a similar range of context."
   ]
  },
  {
   "cell_type": "code",
   "execution_count": 4,
   "metadata": {
    "collapsed": false
   },
   "outputs": [
    {
     "name": "stdout",
     "output_type": "stream",
     "text": [
      "Displaying 10 of 10 matches:\n",
      "ALING NOT RESPECTABLE ? Whaling is imperial ! By old English statutory law , t\n",
      " fortress . Curious to tell , this imperial negro , Ahasuerus Daggoo , was the\n",
      "h outward homage as if he wore the imperial purple , and not the shabbiest of \n",
      "f geographical empire encircles an imperial brain ; then , the plebeian herds \n",
      "or profoundly dines with the seven Imperial Electors , so these cabin meals we\n",
      " overlording Rome , having for the imperial colour the same imperial hue ; and\n",
      "g for the imperial colour the same imperial hue ; and though this pre - eminen\n",
      " could have furnished him . A most imperial and archangelical apparition of th\n",
      "ts he should only be treated of in imperial folio . Not to tell over again his\n",
      "with archangelic shrieks , and his imperial beak thrust upwards , and his whol\n"
     ]
    }
   ],
   "source": [
    "text1.concordance(\"imperial\")"
   ]
  },
  {
   "cell_type": "code",
   "execution_count": 5,
   "metadata": {
    "collapsed": false
   },
   "outputs": [
    {
     "name": "stdout",
     "output_type": "stream",
     "text": [
      "monstrous subtly caused merely shrouded impalpable done curious\n",
      "careful abundant perilous trustworthy cut untoward caught singular\n",
      "washed lamentable answered maddens\n"
     ]
    }
   ],
   "source": [
    "text1.similar(\"imperial\")"
   ]
  },
  {
   "cell_type": "code",
   "execution_count": 6,
   "metadata": {
    "collapsed": false
   },
   "outputs": [
    {
     "name": "stdout",
     "output_type": "stream",
     "text": [
      "a_pretty is_pretty a_lucky am_glad be_glad\n"
     ]
    }
   ],
   "source": [
    "text2.common_contexts([\"monstrous\", \"very\"]) #contexts that  are shared by 2 or more words"
   ]
  },
  {
   "cell_type": "code",
   "execution_count": 7,
   "metadata": {
    "collapsed": false
   },
   "outputs": [
    {
     "name": "stdout",
     "output_type": "stream",
     "text": [
      "Displaying 11 of 11 matches:\n",
      ". \" Now , Palmer , you shall see a monstrous pretty girl .\" He immediately went\n",
      "your sister is to marry him . I am monstrous glad of it , for then I shall have\n",
      "ou may tell your sister . She is a monstrous lucky girl to get him , upon my ho\n",
      "k how you will like them . Lucy is monstrous pretty , and so good humoured and \n",
      " Jennings , \" I am sure I shall be monstrous glad of Miss Marianne ' s company \n",
      " usual noisy cheerfulness , \" I am monstrous glad to see you -- sorry I could n\n",
      "t however , as it turns out , I am monstrous glad there was never any thing in \n",
      "so scornfully ! for they say he is monstrous fond of her , as well he may . I s\n",
      "possible that she should .\" \" I am monstrous glad of it . Good gracious ! I hav\n",
      "thing of the kind . So then he was monstrous happy , and talked on some time ab\n",
      "e very genteel people . He makes a monstrous deal of money , and they keep thei\n"
     ]
    }
   ],
   "source": [
    "text2.concordance(\"monstrous\")"
   ]
  },
  {
   "cell_type": "code",
   "execution_count": 8,
   "metadata": {
    "collapsed": false
   },
   "outputs": [
    {
     "name": "stdout",
     "output_type": "stream",
     "text": [
      "Displaying 25 of 500 matches:\n",
      "te was a single man , who lived to a very advanced age , and who for many year\n",
      "en made amiable himself ; for he was very young when he married , and very fon\n",
      "was very young when he married , and very fond of his wife . But Mrs . John Da\n",
      "osity to so large an amount . It was very well known that no affection was eve\n",
      "y , to be sure ,\" said her husband , very gravely , \" that would make great di\n",
      "amily , for instance , it would be a very convenient addition .\" \" To be sure \n",
      "ounds on their mother ' s death -- a very comfortable fortune for any young wo\n",
      "d if they do not , they may all live very comfortably together on the interest\n",
      " of ten thousand pounds .\" \" That is very true , and , therefore , I do not kn\n",
      "annuity to be paid them ; and she is very stout and healthy , and hardly forty\n",
      ", and hardly forty . An annuity is a very serious business ; it comes over and\n",
      "ow them any thing yearly . It may be very inconvenient some years to spare a h\n",
      "thing farther ; indeed , it would be very strange and unreasonable if he did .\n",
      " some of the plate would have been a very pleasant addition to our own stock h\n",
      "nor attention to his wishes ; for we very well know that if he could , he woul\n",
      "tions . The contempt which she had , very early in their acquaintance , felt f\n",
      "lt for her daughter - in - law , was very much increased by the farther knowle\n",
      "the eldest son of a man who had died very rich ; and some might have repressed\n",
      "er it with some surprise . Edward is very amiable , and I love him tenderly . \n",
      "hough he admires Elinor ' s drawings very much , it is not the admiration of a\n",
      "arning , I think he would have drawn very well . He distrusts his own judgment\n",
      "y the drawings of other people , was very far from that rapturous delight , wh\n",
      "What say you , Marianne ?\" \" I shall very soon think him handsome , Elinor , i\n",
      " of him . She felt that Edward stood very high in her opinion . She believed t\n",
      "to deny ,\" said she , \" that I think very highly of him -- that I greatly este\n"
     ]
    }
   ],
   "source": [
    "text2.concordance(\"very\")"
   ]
  },
  {
   "cell_type": "code",
   "execution_count": 13,
   "metadata": {
    "collapsed": false
   },
   "outputs": [
    {
     "data": {
      "image/png": "[encoded data removed]",
      "text/plain": [
       "<Figure size 600x400 with 1 Axes>"
      ]
     },
     "metadata": {},
     "output_type": "display_data"
    }
   ],
   "source": [
    "text4.dispersion_plot([\"citizen\", \"democracy\", \"freedom\", \"duties\",\"america\"])"
   ]
  },
  {
   "cell_type": "code",
   "execution_count": null,
   "metadata": {
    "collapsed": true
   },
   "outputs": [],
   "source": []
  },
  {
   "cell_type": "code",
   "execution_count": null,
   "metadata": {
    "collapsed": true
   },
   "outputs": [],
   "source": []
  },
  {
   "cell_type": "code",
   "execution_count": null,
   "metadata": {
    "collapsed": true
   },
   "outputs": [],
   "source": []
  }
 ],
 "metadata": {
  "kernelspec": {
   "display_name": "Python 2",
   "language": "python",
   "name": "python2"
  },
  "language_info": {
   "codemirror_mode": {
    "name": "ipython",
    "version": 2
   },
   "file_extension": ".py",
   "mimetype": "text/x-python",
   "name": "python",
   "nbconvert_exporter": "python",
   "pygments_lexer": "ipython2",
   "version": "2.7.13"
  }
 },
 "nbformat": 4,
 "nbformat_minor": 0
}
