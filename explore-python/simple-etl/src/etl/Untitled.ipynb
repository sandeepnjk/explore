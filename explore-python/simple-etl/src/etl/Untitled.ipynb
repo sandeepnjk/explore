{
 "cells": [
  {
   "cell_type": "code",
   "execution_count": 166,
   "metadata": {},
   "outputs": [],
   "source": [
    "import re\n",
    "\n",
    "class Rule:\n",
    "    def __init__(self, name):\n",
    "        self.name = name\n",
    "    def apply(self, data):\n",
    "        pass\n",
    "\n",
    "class FieldRule(Rule):\n",
    "    type = \"field\"\n",
    "    def __init__(self, name, pattern):\n",
    "        super(FieldRule, self).__init__(name)\n",
    "        self.pattern = re.compile(pattern)\n",
    "    def isValid(self, data):\n",
    "        preProcessedData = self.preProcess(data)\n",
    "        result = self.pattern.fullmatch(preProcessedData)\n",
    "        print(result)\n",
    "        if result != None:\n",
    "            return self.postProcess(preProcessedData)\n",
    "        else: \n",
    "            return None\n",
    "    def preProcess(self, data):\n",
    "        return data;\n",
    "    def postProcess(self, preProcessedData):\n",
    "        return preProcessedData;\n",
    "        \n",
    "class BlankField(FieldRule):\n",
    "    def __init__(self, name):\n",
    "        super(BlankField, self).__init__(name, '^[\\s]{0,}$')\n",
    "        \n",
    "class WholeNumberField(FieldRule):\n",
    "    def __init__(self, name, size=0):\n",
    "        super(WholeNumberField, self).__init__(name, \"\".join([\"^\\d{0,\", str(size), \"}$\"]))\n",
    "    def preProcess(self, data):\n",
    "        return data.lstrip('0')\n",
    "    def postProcess(self, preProcessedData):\n",
    "        return int(preProcessedData)\n",
    "    \n",
    "class DecimalNumberField(FieldRule):\n",
    "    def __init__(self, name, characteristic=10, mantissa=2):\n",
    "        super(DecimalNumberField, self).__init__(name, \"\".join([\"^\\d{0,\",str(characteristic),\"}\\.?\\d\",\"{0,}$\"]))\n",
    "        self.characteristic = characteristic\n",
    "        self.mantissa = mantissa\n",
    "    def postProcess(self, preProcessedData):\n",
    "        return round(float(preProcessedData), self.mantissa)\n",
    "    \n",
    "class DateField(FieldRule):\n",
    "    def patterns(self, pattern):\n",
    "        cases = {\n",
    "            \"mmddyyyy\" : '^(0[1-9]|1[012])[- /.]?(0[1-9]|[12][0-9]|3[01])[- /.]?(19|20)\\d\\d$',\n",
    "            \"ddmmyyyy\" : '^(0[1-9]|[12][0-9]|3[01])[- /.]?(0[1-9]|1[012])[- /.]?(19|20)\\d\\d$',\n",
    "        }\n",
    "        return cases[pattern]\n",
    "    def __init__(self, name, checkFormat=\"mmddyyyy\"):\n",
    "        print(self.patterns(checkFormat))\n",
    "        super(DateField, self).__init__(name, self.patterns(checkFormat))\n",
    "        \n",
    "## Tests        \n"
   ]
  },
  {
   "cell_type": "code",
   "execution_count": 132,
   "metadata": {},
   "outputs": [
    {
     "name": "stdout",
     "output_type": "stream",
     "text": [
      "<re.Match object; span=(0, 15), match='rambo.2@cool.is'>\n",
      "rambo.2@cool.is\n"
     ]
    }
   ],
   "source": [
    "emailField = FieldRule(\"email rule\", '^[a-z0-9]+[\\._]?[a-z0-9]+[@]\\w+[.]\\w{2,3}$')\n",
    "print(emailField.isValid(\"rambo.2@cool.is\"))"
   ]
  },
  {
   "cell_type": "code",
   "execution_count": 133,
   "metadata": {},
   "outputs": [
    {
     "name": "stdout",
     "output_type": "stream",
     "text": [
      "<re.Match object; span=(0, 0), match=''>\n",
      "\n",
      "<re.Match object; span=(0, 2), match='  '>\n",
      "  \n",
      "None\n",
      "None\n"
     ]
    }
   ],
   "source": [
    "blankField = BlankField(\"blank rule\")\n",
    "print(blankField.isValid(\"\"))\n",
    "print(blankField.isValid(\"  \"))\n",
    "print(blankField.isValid(\"as\"))"
   ]
  },
  {
   "cell_type": "code",
   "execution_count": 149,
   "metadata": {},
   "outputs": [
    {
     "name": "stdout",
     "output_type": "stream",
     "text": [
      "<re.Match object; span=(0, 5), match='23333'>\n",
      "23333\n",
      "None\n",
      "None\n",
      "<re.Match object; span=(0, 5), match='23333'>\n",
      "23333\n"
     ]
    }
   ],
   "source": [
    "wholeNumberField = WholeNumberField(\"whole number rule\", 5)\n",
    "print(wholeNumberField.isValid(\"23333\"))\n",
    "print(wholeNumberField.isValid(\"233338\"))\n",
    "print(wholeNumberField.isValid(\"0000023333\"))"
   ]
  },
  {
   "cell_type": "code",
   "execution_count": 143,
   "metadata": {},
   "outputs": [
    {
     "name": "stdout",
     "output_type": "stream",
     "text": [
      "<re.Match object; span=(0, 7), match='345.268'>\n",
      "345.27\n",
      "None\n",
      "None\n",
      "None\n",
      "None\n",
      "<re.Match object; span=(0, 13), match='00000345.2100'>\n",
      "345.21\n",
      "<re.Match object; span=(0, 15), match='3450000000.2157'>\n",
      "3450000000.22\n",
      "None\n",
      "None\n"
     ]
    }
   ],
   "source": [
    "decimalNumberField = DecimalNumberField(\"decimal number rule\", 10, 2)\n",
    "print(decimalNumberField.isValid(\"345.268\"))\n",
    "print(decimalNumberField.isValid(\"345.2100a\"))\n",
    "print(decimalNumberField.isValid(\"345a.2100\"))\n",
    "print(decimalNumberField.isValid(\"00000345.2100\"))\n",
    "print(decimalNumberField.isValid(\"3450000000.2157\"))\n",
    "print(decimalNumberField.isValid(\"34500000007.2157\"))"
   ]
  },
  {
   "cell_type": "code",
   "execution_count": 169,
   "metadata": {},
   "outputs": [
    {
     "name": "stdout",
     "output_type": "stream",
     "text": [
      "^(0[1-9]|1[012])[- /.]?(0[1-9]|[12][0-9]|3[01])[- /.]?(19|20)\\d\\d$\n",
      "<re.Match object; span=(0, 10), match='03-21-2019'>\n",
      "03-21-2019\n",
      "<re.Match object; span=(0, 8), match='03212019'>\n",
      "03212019\n",
      "<re.Match object; span=(0, 10), match='03/21/2019'>\n",
      "03/21/2019\n",
      "<re.Match object; span=(0, 10), match='03.21.2019'>\n",
      "03.21.2019\n",
      "<re.Match object; span=(0, 10), match='03-21-2019'>\n",
      "03-21-2019\n",
      "None\n",
      "None\n",
      "None\n",
      "None\n",
      "None\n",
      "None\n",
      "^(0[1-9]|[12][0-9]|3[01])[- /.]?(0[1-9]|1[012])[- /.]?(19|20)\\d\\d$\n",
      "<re.Match object; span=(0, 8), match='21032019'>\n",
      "21032019\n",
      "<re.Match object; span=(0, 10), match='21/03/2019'>\n",
      "21/03/2019\n",
      "<re.Match object; span=(0, 10), match='21/03/2019'>\n",
      "21/03/2019\n",
      "<re.Match object; span=(0, 10), match='21/03/2019'>\n",
      "21/03/2019\n"
     ]
    }
   ],
   "source": [
    "dateField = DateField(\"date format rule\", \"mmddyyyy\")\n",
    "print(dateField.isValid('03-21-2019'))\n",
    "print(dateField.isValid('03212019'))\n",
    "print(dateField.isValid('03/21/2019'))\n",
    "print(dateField.isValid('03.21.2019'))\n",
    "print(dateField.isValid('03-21-2019'))\n",
    "print(dateField.isValid('13212019'))\n",
    "print(dateField.isValid('03/32/2019'))\n",
    "print(dateField.isValid('03.21.22019'))\n",
    "dateField = DateField(\"date format rule\", \"ddmmyyyy\")\n",
    "print(dateField.isValid('21032019'))\n",
    "print(dateField.isValid('21/03/2019'))\n",
    "print(dateField.isValid('21/03/2019'))\n",
    "print(dateField.isValid('21/03/2019'))"
   ]
  },
  {
   "cell_type": "code",
   "execution_count": null,
   "metadata": {},
   "outputs": [],
   "source": []
  }
 ],
 "metadata": {
  "kernelspec": {
   "display_name": "Python 3",
   "language": "python",
   "name": "python3"
  },
  "language_info": {
   "codemirror_mode": {
    "name": "ipython",
    "version": 3
   },
   "file_extension": ".py",
   "mimetype": "text/x-python",
   "name": "python",
   "nbconvert_exporter": "python",
   "pygments_lexer": "ipython3",
   "version": "3.8.3"
  }
 },
 "nbformat": 4,
 "nbformat_minor": 4
}
